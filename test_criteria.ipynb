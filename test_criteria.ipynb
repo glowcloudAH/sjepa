{
 "cells": [
  {
   "cell_type": "code",
   "execution_count": 5,
   "metadata": {},
   "outputs": [
    {
     "name": "stdout",
     "output_type": "stream",
     "text": [
      "The autoreload extension is already loaded. To reload it, use:\n",
      "  %reload_ext autoreload\n"
     ]
    }
   ],
   "source": [
    "%load_ext autoreload\n",
    "%autoreload 2\n",
    "\n",
    "import torch\n",
    "from torch import nn\n",
    "from torch.nn import functional as F\n",
    "\n",
    "from src.utils.criteria import *\n",
    "\n"
   ]
  },
  {
   "cell_type": "code",
   "execution_count": 6,
   "metadata": {},
   "outputs": [
    {
     "data": {
      "text/plain": [
       "torch.Size([512, 144, 192])"
      ]
     },
     "execution_count": 6,
     "metadata": {},
     "output_type": "execute_result"
    }
   ],
   "source": [
    "\n",
    "# create some random tensors\n",
    "context = torch.randn(*[128, 220, 192])\n",
    "targets = torch.ones(*[512, 144, 192])\n",
    "preds = torch.ones(*[512, 144, 192])\n",
    "targets.shape\n"
   ]
  },
  {
   "cell_type": "code",
   "execution_count": 9,
   "metadata": {},
   "outputs": [
    {
     "data": {
      "text/plain": [
       "tensor(0.0020)"
      ]
     },
     "execution_count": 9,
     "metadata": {},
     "output_type": "execute_result"
    }
   ],
   "source": [
    "closest_prediction_probability(preds,targets)"
   ]
  },
  {
   "cell_type": "code",
   "execution_count": 16,
   "metadata": {},
   "outputs": [
    {
     "name": "stdout",
     "output_type": "stream",
     "text": [
      "torch.Size([128, 192]) torch.Size([128, 192])\n",
      "torch.Size([128, 192]) torch.Size([128, 192])\n",
      "torch.Size([128, 192]) torch.Size([128, 192])\n",
      "torch.Size([128, 192]) torch.Size([128, 192])\n"
     ]
    },
    {
     "data": {
      "text/plain": [
       "tensor(-0.0017)"
      ]
     },
     "execution_count": 16,
     "metadata": {},
     "output_type": "execute_result"
    }
   ],
   "source": [
    "\n",
    "# using the function\n",
    "sims = []\n",
    "for target in targets:\n",
    "    ctx = context.mean(dim=1)\n",
    "    target = target.mean(dim=1)\n",
    "    print(ctx.shape, target.shape)\n",
    "    sim_func = F.cosine_similarity(ctx, target, dim=1) # shape (n,)\n",
    "    sims.append(sim_func)\n",
    "\n",
    "torch.stack(sims).mean()"
   ]
  }
 ],
 "metadata": {
  "kernelspec": {
   "display_name": "sjepa",
   "language": "python",
   "name": "python3"
  },
  "language_info": {
   "codemirror_mode": {
    "name": "ipython",
    "version": 3
   },
   "file_extension": ".py",
   "mimetype": "text/x-python",
   "name": "python",
   "nbconvert_exporter": "python",
   "pygments_lexer": "ipython3",
   "version": "3.9.13"
  }
 },
 "nbformat": 4,
 "nbformat_minor": 2
}
